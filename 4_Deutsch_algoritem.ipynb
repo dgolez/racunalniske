{
 "cells": [
  {
   "cell_type": "code",
   "execution_count": null,
   "id": "773c7c2f-751d-49f5-9261-c09f3405fbb4",
   "metadata": {},
   "outputs": [],
   "source": [
    "import numpy as np\n",
    "from qiskit import QuantumCircuit\n",
    "from qiskit.transpiler.preset_passmanagers import generate_preset_pass_manager\n",
    "from qiskit.quantum_info import Statevector"
   ]
  },
  {
   "cell_type": "markdown",
   "id": "b9b2c893",
   "metadata": {},
   "source": []
  },
  {
   "cell_type": "markdown",
   "id": "62608c70-c999-4389-824a-b49ce5aeb6e3",
   "metadata": {},
   "source": [
    "# 1. Deutsch-Jotzsa algoritem"
   ]
  },
  {
   "cell_type": "markdown",
   "id": "f6687134-0936-4f3d-ba4f-3bef3afe0063",
   "metadata": {},
   "source": [
    "Motivacije je implementirati standardni Deutsch-Jotzsa algoritem, ki nam predstavi idejo zakaj lahko \n",
    "kvantni računalniki \"premagajo\" klasične za določene probleme. Algoritem je bil uveden v Ref [1]."
   ]
  },
  {
   "cell_type": "markdown",
   "id": "f97f730b-9c37-420a-ac54-8568cb57bad7",
   "metadata": {},
   "source": [
    "# 1.1 Deutschov problem"
   ]
  },
  {
   "cell_type": "markdown",
   "id": "43a141a2-d9c5-4b8c-a65d-317c0be2dc55",
   "metadata": {},
   "source": [
    "Imamo neznano funkcijo $f$, ki vzame kot input en bit $x$=0 ali 1 in vrne ali 0 ali 1.\n",
    "Funkcija ima lastnost, da je ali konstantna $f(0)=f(1)$ ali uravnotežena $f(0)\\neq f(1)$. \n",
    "Primer uravnotežene funkcije bi bila\n",
    "$$f(0)=1 \\qquad f(1)=0$$\n",
    "in primer konstantne\n",
    "$$f(0)=0 \\qquad f(1)=0.$$\n",
    "\n",
    "Naloga je ugotoviti, če je funkcija uravnotežena ali konstanta s čim manj izvrednotenj same funkcije.\n",
    "Če bi hoteli ta problem rešiti klasično, bi morali v najslabšem primeru izvrednotiti funkcijo vsaj $2^{n-1}+1$-krat. "
   ]
  },
  {
   "cell_type": "markdown",
   "id": "e20c390b-aa60-46f9-977f-dbe39831178b",
   "metadata": {},
   "source": [
    "# 1.2 Kvantna rešitev"
   ]
  },
  {
   "cell_type": "markdown",
   "id": "b5ef9ae2-0946-4926-b4af-c4f43850cb30",
   "metadata": {},
   "source": [
    "Kvantni računalnik lahko ta problem reši bolje in preveri več vhodnih vrednosti naenkrat. Funkcijo $f$ moramo\n",
    "izvrednotimo kot orakelj $U_f$, ki naredi unitarno transformacijo  $|x>|y> \\rightarrow |x>|f(x)+y>$"
   ]
  },
  {
   "cell_type": "markdown",
   "id": "6971d8ca-14a8-47e3-80a6-698a1707853a",
   "metadata": {},
   "source": [
    "# Različni oraklji"
   ]
  },
  {
   "cell_type": "markdown",
   "id": "41261c3e-195e-4058-bbe6-bc81c06dc7a2",
   "metadata": {},
   "source": [
    "Konstantni orakelj ima dve možnosti:\n",
    "\n",
    "a) če je f(x)=0, potem ne naredimo nič [opcija=1]\n",
    "\n",
    "b) če je f(x)=1, potem apliciramo X vrata na kubit v registru 1 [opcija=2]\n",
    "\n",
    "c) če je f(x)=balance, CNOT vrata [opcija=3]\n",
    "\n",
    "d) če je f(x)=1, potem zaporedje X, CNOT in X vrata  na 1.  registru [opcija=4]"
   ]
  },
  {
   "cell_type": "code",
   "execution_count": null,
   "id": "0c470a2f-0749-43f1-990d-821dc5b62e73",
   "metadata": {},
   "outputs": [],
   "source": [
    "# Pripravi vezje za f(x)=1:  2 kubita in 1 bit\n",
    "qc = QuantumCircuit(2,1)\n",
    "\n",
    "opcija=2\n",
    "#Nastavi stanje |01>\n",
    "qc.x(1)\n",
    "\n",
    "\n",
    "qc.h(0)\n",
    "qc.h(1)\n",
    "\n",
    "if opcija==0:  # Konstantni orakelj f(x)=0\n",
    "    print(0)\n",
    "elif opcija==1:  # Konstantni orakelj f(x)=1\n",
    "    qc.x(1)\n",
    "elif opcija==2:  # Uravnovešen orakelj f(x)\n",
    "    qc.cx(0,1)\n",
    "elif opcija==3:  # Uravnovešen orakelj f(x)\n",
    "    qc.x(0)\n",
    "    qc.cx(0,1)\n",
    "    qc.x(0)\n",
    "\n",
    "\n",
    "qc.h(0)\n",
    "\n",
    "qc.measure(0, 0)\n",
    "\n",
    "qc.draw(\"mpl\")"
   ]
  },
  {
   "cell_type": "code",
   "execution_count": null,
   "id": "d51663e8-484a-4443-a0cb-0dbfb60ea72b",
   "metadata": {},
   "outputs": [],
   "source": [
    "from qiskit import transpile \n",
    "from qiskit_aer import AerSimulator\n",
    "from qiskit.visualization import plot_histogram\n",
    "\n",
    "backend = AerSimulator()\n",
    "\n",
    "# Prvo prevedemo celotno vezje v low-level instrukcije za simulator\n",
    "qc_compiled = transpile(qc, backend)\n",
    "\n",
    "# Izvrednotimo vezje in naredimo 2048 ponovitev\n",
    "job_sim = backend.run(qc_compiled, shots=2048)\n",
    "\n",
    "# Grab the results from the job.\n",
    "result_sim = job_sim.result()\n",
    "\n",
    "\n",
    "\n",
    "counts = result_sim.get_counts(qc_compiled)\n",
    "print(counts)\n",
    "\n",
    "plot_histogram(counts)"
   ]
  },
  {
   "cell_type": "code",
   "execution_count": null,
   "id": "ebbb8a87-f827-489b-81f1-c556fd125002",
   "metadata": {},
   "outputs": [],
   "source": []
  },
  {
   "cell_type": "markdown",
   "id": "c360c510-b189-4b39-b3e0-5c1bd81e1fed",
   "metadata": {},
   "source": [
    "# 6. Literatura\n",
    "David Deutsch and Richard Jozsa (1992). \"Rapid solutions of problems by quantum computation\". Proceedings of the Royal Society of London A.439: 553-558. doi:10.1098/rspa.1992.0167."
   ]
  },
  {
   "cell_type": "code",
   "execution_count": null,
   "id": "305177b0-0386-4c7d-af1b-a7eaacf4155e",
   "metadata": {},
   "outputs": [],
   "source": []
  }
 ],
 "metadata": {
  "kernelspec": {
   "display_name": "Python 3 (ipykernel)",
   "language": "python",
   "name": "python3"
  },
  "language_info": {
   "codemirror_mode": {
    "name": "ipython",
    "version": 3
   },
   "file_extension": ".py",
   "mimetype": "text/x-python",
   "name": "python",
   "nbconvert_exporter": "python",
   "pygments_lexer": "ipython3",
   "version": "3.11.8"
  }
 },
 "nbformat": 4,
 "nbformat_minor": 5
}
